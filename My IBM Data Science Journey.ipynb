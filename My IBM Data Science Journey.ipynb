{
 "cells": [
  {
   "cell_type": "markdown",
   "id": "a16c9050",
   "metadata": {},
   "source": [
    "# TITLE\n",
    "\n",
    "My IBM Data Science Journey"
   ]
  },
  {
   "cell_type": "markdown",
   "id": "6d8559ef",
   "metadata": {},
   "source": [
    "## Introduction\n",
    "\n",
    "I'm currently pursuing a Master of Professional Studies in Data Science at the University of Maryland, Baltimore County, where I've maintained a GPA of 3.9. \n",
    "In terms of professional experience, I've had the opportunity to work in both academic and corporate settings. As a Graduate Assistant at UMBC, I've been actively involved in assessing graduate students' understanding of relational and big data systems, while also providing valuable feedback on SQL query skills. Before this role, I served as a Data Analyst at Tata Consultancy Services, I took the lead in developing a sophisticated model for predicting malware infections. My responsibilities included applying advanced statistical techniques, conducting model training, and evaluating performance metrics, all of which contributed to the successful prediction of server infection probabilities.\n"
   ]
  },
  {
   "cell_type": "markdown",
   "id": "0041ba2a",
   "metadata": {},
   "source": [
    "## Data Science Languages\n",
    "\n",
    "1. Python\n",
    "2. R\n",
    "3. SQL\n"
   ]
  },
  {
   "cell_type": "markdown",
   "id": "a7a3c1e8",
   "metadata": {},
   "source": [
    "## Data Science Libraries\n",
    "\n",
    "1. Pandas\n",
    "2. NumPy\n",
    "3. Scikit-learn\n",
    "4. TensorFlow\n"
   ]
  },
  {
   "cell_type": "markdown",
   "id": "35b0f432",
   "metadata": {},
   "source": [
    "## Data Science Tools\n",
    "\n",
    "| Category        | Tool              |\n",
    "|-----------------|-------------------|\n",
    "| Data Cleaning   | Pandas, dplyr     |\n",
    "| Visualization   | Matplotlib, ggplot|\n",
    "| Machine Learning| Scikit-learn, TensorFlow |\n",
    "| Deep Learning   | Keras, PyTorch    |\n"
   ]
  },
  {
   "cell_type": "markdown",
   "id": "af762e4d",
   "metadata": {},
   "source": [
    "## Arithmetic Expression Examples\n",
    "\n",
    "In this section, we will explore some basic arithmetic expressions using Python.\n",
    "\n",
    "1. Addition:\n",
    "   result = 5 + 3\n",
    "   print(\"Addition result:\", result)\n",
    "\n",
    "2. Subtraction:\n",
    "    result = 10 - 7\n",
    "    print(\"Subtraction result:\", result)\n"
   ]
  },
  {
   "cell_type": "code",
   "execution_count": 1,
   "id": "3eda02fa",
   "metadata": {},
   "outputs": [
    {
     "name": "stdout",
     "output_type": "stream",
     "text": [
      "Multiplication result: 15\n",
      "Addition result: 8\n"
     ]
    }
   ],
   "source": [
    "# Multiply and add numbers\n",
    "\n",
    "a = 5\n",
    "b = 3\n",
    "result_multiply = a * b\n",
    "result_add = a + b\n",
    "\n",
    "# Print results\n",
    "print(\"Multiplication result:\", result_multiply)\n",
    "print(\"Addition result:\", result_add)\n"
   ]
  },
  {
   "cell_type": "code",
   "execution_count": 2,
   "id": "48fa9928",
   "metadata": {},
   "outputs": [
    {
     "name": "stdout",
     "output_type": "stream",
     "text": [
      "150 minutes is equal to 2.5 hours.\n"
     ]
    }
   ],
   "source": [
    "# Convert minutes to hours\n",
    "\n",
    "minutes = 150\n",
    "hours = minutes / 60\n",
    "\n",
    "# Print result\n",
    "print(minutes, \"minutes is equal to\", hours, \"hours.\")\n"
   ]
  },
  {
   "cell_type": "markdown",
   "id": "0001f191",
   "metadata": {},
   "source": [
    "## Objectives\n",
    "\n",
    "1. Explore data science languages and libraries.\n",
    "2. Understand the role of various data science tools.\n",
    "3. Practice arithmetic expressions in Python.\n",
    "4. Convert units of time.\n"
   ]
  },
  {
   "cell_type": "markdown",
   "id": "ffe6f381",
   "metadata": {},
   "source": [
    "## Author\n",
    "\n",
    "Mansur Ali Mohammad\n"
   ]
  },
  {
   "cell_type": "code",
   "execution_count": null,
   "id": "9aa04e2a",
   "metadata": {},
   "outputs": [],
   "source": []
  }
 ],
 "metadata": {
  "kernelspec": {
   "display_name": "Python 3",
   "language": "python",
   "name": "python3"
  },
  "language_info": {
   "codemirror_mode": {
    "name": "ipython",
    "version": 3
   },
   "file_extension": ".py",
   "mimetype": "text/x-python",
   "name": "python",
   "nbconvert_exporter": "python",
   "pygments_lexer": "ipython3",
   "version": "3.8.8"
  }
 },
 "nbformat": 4,
 "nbformat_minor": 5
}
